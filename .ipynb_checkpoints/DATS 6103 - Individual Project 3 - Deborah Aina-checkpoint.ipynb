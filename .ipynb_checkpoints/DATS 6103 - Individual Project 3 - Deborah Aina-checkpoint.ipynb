{
 "cells": [
  {
   "cell_type": "markdown",
   "metadata": {},
   "source": [
    "Massive open online courses (MOOCSs) are free online courses open for everyone to enroll. What Makes MOOCs attractive is the fact that it offers opportunities for people from different walks of life and from differen countries to study \"together\" and by together that is virtually, at minimal to no cost to students. Schools like University of Maryland University College were among the first univeristies to accept MOOCs for credit, since then more institutions have welcomed the idea of providing online education for free. MOOCs sadly have simply not lived up to their mission to transform education around the world and once again we see how a good free initiative simply does not translate to good results."
   ]
  },
  {
   "cell_type": "code",
   "execution_count": 1,
   "metadata": {},
   "outputs": [],
   "source": [
    "#Import libraries and dependencies\n",
    "import pandas as pd\n",
    "import numpy as np\n",
    "import csv\n",
    "import matplotlib.pyplot as plt\n",
    "import matplotlib.cm as cm\n",
    "import seaborn as sns\n",
    "\n",
    "\n",
    "from IPython.display import display\n",
    "import warnings\n",
    "warnings.filterwarnings('ignore')"
   ]
  },
  {
   "cell_type": "code",
   "execution_count": 2,
   "metadata": {},
   "outputs": [],
   "source": [
    "pd.set_option('display.notebook_repr_html',True)\n",
    "pd.set_option('display.float_format', lambda x: '%.1f' % x)"
   ]
  },
  {
   "cell_type": "markdown",
   "metadata": {},
   "source": [
    "## Read in the datasets"
   ]
  },
  {
   "cell_type": "code",
   "execution_count": 3,
   "metadata": {},
   "outputs": [
    {
     "data": {
      "text/html": [
       "<div>\n",
       "<style scoped>\n",
       "    .dataframe tbody tr th:only-of-type {\n",
       "        vertical-align: middle;\n",
       "    }\n",
       "\n",
       "    .dataframe tbody tr th {\n",
       "        vertical-align: top;\n",
       "    }\n",
       "\n",
       "    .dataframe thead th {\n",
       "        text-align: right;\n",
       "    }\n",
       "</style>\n",
       "<table border=\"1\" class=\"dataframe\">\n",
       "  <thead>\n",
       "    <tr style=\"text-align: right;\">\n",
       "      <th></th>\n",
       "      <th>course_id</th>\n",
       "      <th>userid_DI</th>\n",
       "      <th>registered</th>\n",
       "      <th>viewed</th>\n",
       "      <th>explored</th>\n",
       "      <th>certified</th>\n",
       "      <th>final_cc_cname_DI</th>\n",
       "      <th>LoE_DI</th>\n",
       "      <th>YoB</th>\n",
       "      <th>gender</th>\n",
       "      <th>grade</th>\n",
       "      <th>start_time_DI</th>\n",
       "      <th>last_event_DI</th>\n",
       "      <th>nevents</th>\n",
       "      <th>ndays_act</th>\n",
       "      <th>nplay_video</th>\n",
       "      <th>nchapters</th>\n",
       "      <th>nforum_posts</th>\n",
       "      <th>roles</th>\n",
       "      <th>incomplete_flag</th>\n",
       "    </tr>\n",
       "  </thead>\n",
       "  <tbody>\n",
       "    <tr>\n",
       "      <th>0</th>\n",
       "      <td>HarvardX/CB22x/2013_Spring</td>\n",
       "      <td>MHxPC130442623</td>\n",
       "      <td>1</td>\n",
       "      <td>0</td>\n",
       "      <td>0</td>\n",
       "      <td>0</td>\n",
       "      <td>United States</td>\n",
       "      <td>NaN</td>\n",
       "      <td>nan</td>\n",
       "      <td>NaN</td>\n",
       "      <td>0</td>\n",
       "      <td>12/19/2012</td>\n",
       "      <td>11/17/2013</td>\n",
       "      <td>nan</td>\n",
       "      <td>9.0</td>\n",
       "      <td>nan</td>\n",
       "      <td>nan</td>\n",
       "      <td>0</td>\n",
       "      <td>nan</td>\n",
       "      <td>1.0</td>\n",
       "    </tr>\n",
       "    <tr>\n",
       "      <th>1</th>\n",
       "      <td>HarvardX/CB22x/2013_Spring</td>\n",
       "      <td>MHxPC130275857</td>\n",
       "      <td>1</td>\n",
       "      <td>0</td>\n",
       "      <td>0</td>\n",
       "      <td>0</td>\n",
       "      <td>United States</td>\n",
       "      <td>NaN</td>\n",
       "      <td>nan</td>\n",
       "      <td>NaN</td>\n",
       "      <td>0</td>\n",
       "      <td>2/8/2013</td>\n",
       "      <td>11/17/2013</td>\n",
       "      <td>nan</td>\n",
       "      <td>16.0</td>\n",
       "      <td>nan</td>\n",
       "      <td>nan</td>\n",
       "      <td>0</td>\n",
       "      <td>nan</td>\n",
       "      <td>1.0</td>\n",
       "    </tr>\n",
       "    <tr>\n",
       "      <th>2</th>\n",
       "      <td>HarvardX/CB22x/2013_Spring</td>\n",
       "      <td>MHxPC130539455</td>\n",
       "      <td>1</td>\n",
       "      <td>1</td>\n",
       "      <td>0</td>\n",
       "      <td>0</td>\n",
       "      <td>France</td>\n",
       "      <td>NaN</td>\n",
       "      <td>nan</td>\n",
       "      <td>NaN</td>\n",
       "      <td>0</td>\n",
       "      <td>1/1/2013</td>\n",
       "      <td>5/14/2013</td>\n",
       "      <td>42.0</td>\n",
       "      <td>6.0</td>\n",
       "      <td>nan</td>\n",
       "      <td>3.0</td>\n",
       "      <td>0</td>\n",
       "      <td>nan</td>\n",
       "      <td>nan</td>\n",
       "    </tr>\n",
       "    <tr>\n",
       "      <th>3</th>\n",
       "      <td>HarvardX/CB22x/2013_Spring</td>\n",
       "      <td>MHxPC130088379</td>\n",
       "      <td>1</td>\n",
       "      <td>1</td>\n",
       "      <td>0</td>\n",
       "      <td>0</td>\n",
       "      <td>United States</td>\n",
       "      <td>NaN</td>\n",
       "      <td>nan</td>\n",
       "      <td>NaN</td>\n",
       "      <td>0</td>\n",
       "      <td>2/18/2013</td>\n",
       "      <td>3/17/2013</td>\n",
       "      <td>70.0</td>\n",
       "      <td>3.0</td>\n",
       "      <td>nan</td>\n",
       "      <td>3.0</td>\n",
       "      <td>0</td>\n",
       "      <td>nan</td>\n",
       "      <td>nan</td>\n",
       "    </tr>\n",
       "    <tr>\n",
       "      <th>4</th>\n",
       "      <td>HarvardX/CB22x/2013_Spring</td>\n",
       "      <td>MHxPC130024894</td>\n",
       "      <td>1</td>\n",
       "      <td>1</td>\n",
       "      <td>0</td>\n",
       "      <td>0</td>\n",
       "      <td>United States</td>\n",
       "      <td>NaN</td>\n",
       "      <td>nan</td>\n",
       "      <td>NaN</td>\n",
       "      <td>0.07</td>\n",
       "      <td>1/24/2013</td>\n",
       "      <td>8/3/2013</td>\n",
       "      <td>175.0</td>\n",
       "      <td>9.0</td>\n",
       "      <td>nan</td>\n",
       "      <td>7.0</td>\n",
       "      <td>0</td>\n",
       "      <td>nan</td>\n",
       "      <td>nan</td>\n",
       "    </tr>\n",
       "  </tbody>\n",
       "</table>\n",
       "</div>"
      ],
      "text/plain": [
       "                    course_id       userid_DI  registered  viewed  explored  \\\n",
       "0  HarvardX/CB22x/2013_Spring  MHxPC130442623           1       0         0   \n",
       "1  HarvardX/CB22x/2013_Spring  MHxPC130275857           1       0         0   \n",
       "2  HarvardX/CB22x/2013_Spring  MHxPC130539455           1       1         0   \n",
       "3  HarvardX/CB22x/2013_Spring  MHxPC130088379           1       1         0   \n",
       "4  HarvardX/CB22x/2013_Spring  MHxPC130024894           1       1         0   \n",
       "\n",
       "   certified final_cc_cname_DI LoE_DI  YoB gender grade start_time_DI  \\\n",
       "0          0     United States    NaN  nan    NaN     0    12/19/2012   \n",
       "1          0     United States    NaN  nan    NaN     0      2/8/2013   \n",
       "2          0            France    NaN  nan    NaN     0      1/1/2013   \n",
       "3          0     United States    NaN  nan    NaN     0     2/18/2013   \n",
       "4          0     United States    NaN  nan    NaN  0.07     1/24/2013   \n",
       "\n",
       "  last_event_DI  nevents  ndays_act  nplay_video  nchapters  nforum_posts  \\\n",
       "0    11/17/2013      nan        9.0          nan        nan             0   \n",
       "1    11/17/2013      nan       16.0          nan        nan             0   \n",
       "2     5/14/2013     42.0        6.0          nan        3.0             0   \n",
       "3     3/17/2013     70.0        3.0          nan        3.0             0   \n",
       "4      8/3/2013    175.0        9.0          nan        7.0             0   \n",
       "\n",
       "   roles  incomplete_flag  \n",
       "0    nan              1.0  \n",
       "1    nan              1.0  \n",
       "2    nan              nan  \n",
       "3    nan              nan  \n",
       "4    nan              nan  "
      ]
     },
     "execution_count": 3,
     "metadata": {},
     "output_type": "execute_result"
    }
   ],
   "source": [
    "#First dataset\n",
    "mooc_data = pd.read_csv('mooc.csv')\n",
    "mooc_data.head()"
   ]
  },
  {
   "cell_type": "markdown",
   "metadata": {},
   "source": [
    "## Data Preprocessing"
   ]
  },
  {
   "cell_type": "code",
   "execution_count": 4,
   "metadata": {},
   "outputs": [],
   "source": [
    "#split course id and extract institution, course id, year and semester from it\n",
    "course_details = [course for course in mooc_data['course_id']]\n",
    "\n",
    "institution= []\n",
    "course_id= []\n",
    "year= []\n",
    "\n",
    "for course in course_details:\n",
    "    course = course.split('/')\n",
    "    institution.append(course[0])\n",
    "    course_id.append(course[1])\n",
    "    year.append(course[2])        "
   ]
  },
  {
   "cell_type": "code",
   "execution_count": null,
   "metadata": {},
   "outputs": [],
   "source": [
    "#Add the newly created lists to the existing dataframe\n",
    "mooc_data['Institution'] = institution\n",
    "mooc_data['Course_id'] =  course_id\n",
    "mooc_data['Year'] = year\n",
    "\n",
    "#drop unmwanted and duplicate columns from the dataframe\n",
    "mooc_data = mooc_data.drop(columns=[\"course_id\",\"roles\"])"
   ]
  },
  {
   "cell_type": "code",
   "execution_count": null,
   "metadata": {},
   "outputs": [],
   "source": [
    "#Extract semester and year from the year column\n",
    "seasons = [yr for yr in mooc_data['Year']]\n",
    "semester = []\n",
    "year = []\n",
    "for season in seasons:\n",
    "    season = season.split('_')\n",
    "    year.append(season[0])\n",
    "    if len(season) > 1:\n",
    "        semester.append(season[1])\n",
    "    elif len(season) == 1:\n",
    "        semester.append('N/A')"
   ]
  },
  {
   "cell_type": "code",
   "execution_count": null,
   "metadata": {},
   "outputs": [],
   "source": [
    "mooc_data['Year'] = year\n",
    "mooc_data['Semester'] = semester"
   ]
  },
  {
   "cell_type": "code",
   "execution_count": null,
   "metadata": {},
   "outputs": [],
   "source": [
    "#rename all null values as N/A to easily drop them\n",
    "mooc_data = mooc_data.fillna('N/A')"
   ]
  },
  {
   "cell_type": "code",
   "execution_count": null,
   "metadata": {},
   "outputs": [],
   "source": [
    "#Remove rows from columns gender, level of education, Year of birth with N/A\n",
    "mooc_data = mooc_data.loc[mooc_data['gender'] != 'N/A']\n",
    "mooc_data = mooc_data.loc[mooc_data['LoE_DI'] != 'N/A']  \n",
    "mooc_data = mooc_data.loc[mooc_data['YoB'] != 'N/A']\n",
    "\n",
    "# replace numeric null values  with 0\n",
    "mooc_data.loc[mooc_data['nevents'] == 'N/A', 'nevents'] = 0\n",
    "mooc_data.loc[mooc_data['ndays_act'] == 'N/A', 'ndays_act'] = 0\n",
    "mooc_data.loc[mooc_data['nplay_video'] == 'N/A', 'nplay_video'] = 0\n",
    "mooc_data.loc[mooc_data['nchapters'] == 'N/A', 'nchapters'] = 0\n",
    "mooc_data.loc[mooc_data['grade'] == 'N/A', 'grade'] = 0\n",
    "mooc_data.loc[mooc_data['incomplete_flag'] == 'N/A', 'incomplete_flag'] = 0"
   ]
  },
  {
   "cell_type": "code",
   "execution_count": null,
   "metadata": {},
   "outputs": [],
   "source": [
    "mooc_data.head()"
   ]
  },
  {
   "cell_type": "code",
   "execution_count": null,
   "metadata": {},
   "outputs": [],
   "source": [
    "#Calculate age from year column up to 2013 \n",
    "mooc_data['Age'] = pd.Timestamp('2013').year - mooc_data['YoB'] \n",
    "mooc_data.head()"
   ]
  },
  {
   "cell_type": "code",
   "execution_count": null,
   "metadata": {},
   "outputs": [],
   "source": [
    "print(mooc_data.shape)\n",
    "print(mooc_data.columns)\n",
    "print(mooc_data.isnull().values.any())"
   ]
  },
  {
   "cell_type": "markdown",
   "metadata": {},
   "source": [
    "### Adding Additional Columns to the dataframe"
   ]
  },
  {
   "cell_type": "code",
   "execution_count": null,
   "metadata": {},
   "outputs": [],
   "source": [
    "#Print out unique counts of course_ids in the dataframe\n",
    "mooc_data['Course_id'].value_counts()"
   ]
  },
  {
   "cell_type": "code",
   "execution_count": null,
   "metadata": {},
   "outputs": [],
   "source": [
    "#Add a new column called course title to the dataframe\n",
    "mooc_data['Course_title'] = ''\n",
    "\n",
    "mooc_data.loc[(mooc_data['Course_id'] == 'CB22x'), 'Course_title']= 'The Ancient Greek Hero'\n",
    "mooc_data.loc[(mooc_data['Course_id'] == 'PH207x'), 'Course_title']= 'Health in Numbers'\n",
    "mooc_data.loc[(mooc_data['Course_id'] == 'CS50x'), 'Course_title'] = 'Introduction to Computer Science'\n",
    "mooc_data.loc[(mooc_data['Course_id'] == 'ER22x'), 'Course_title'] = 'Justice'\n",
    "mooc_data.loc[(mooc_data['Course_id'] == 'PH278x'),'Course_title'] = 'Human Health and Global Environmental Change'"
   ]
  },
  {
   "cell_type": "code",
   "execution_count": null,
   "metadata": {},
   "outputs": [],
   "source": [
    "#Add a new column called course subject to the dataframe\n",
    "mooc_data['Course_subject'] = ''\n",
    "\n",
    "mooc_data.loc[(mooc_data['Course_id'] == 'CB22x') | (mooc_data['Course_id'] == 'ER22x'), 'Course_subject']= 'Humanities,History,Design,Religion,Education'\n",
    "mooc_data.loc[(mooc_data['Course_id'] == 'PH207x') | (mooc_data['Course_id'] == 'PH278x'), 'Course_subject']= 'Government,Health,Social sciences'\n",
    "mooc_data.loc[(mooc_data['Course_id'] == 'CS50x'), 'Course_subject'] = 'Computer Science'"
   ]
  },
  {
   "cell_type": "code",
   "execution_count": null,
   "metadata": {},
   "outputs": [],
   "source": [
    "#Reorganize and reorder columns\n",
    "mooc_data = mooc_data[['userid_DI','Age','gender','final_cc_cname_DI','LoE_DI','Institution','Course_id','Course_title','Course_subject',\\\n",
    "             'Year','registered','viewed','explored','nplay_video','ndays_act','nchapters','nforum_posts','grade','incomplete_flag','certified']]\n",
    "\n",
    "#Clean up column names\n",
    "mooc_data.columns = ['Userid','Age','Gender','Country','Education','Institution','Course_id','Course_title','Course_subject',\\\n",
    "                    'Year','Registered','Viewed','Explored','Nplay_video','Ndays_act','Nchapters','Nforum_posts','Grade','Incomplete_flag','Certified']\n",
    "mooc_data.head()"
   ]
  },
  {
   "cell_type": "code",
   "execution_count": null,
   "metadata": {},
   "outputs": [],
   "source": [
    "#Replace 0 and 1 with yes and no in yes or no columns\n",
    "mooc_data[\"Certified\"] = mooc_data[\"Certified\"].replace({0: 'No', 1:'Yes'})\n",
    "mooc_data[\"Explored\"] = mooc_data[\"Explored\"].replace({0: 'No', 1:'Yes'})\n",
    "mooc_data[\"Registered\"] = mooc_data[\"Explored\"].replace({1:'Yes'})"
   ]
  },
  {
   "cell_type": "code",
   "execution_count": null,
   "metadata": {},
   "outputs": [],
   "source": [
    "#Summary of unique values in selected columns\n",
    "users = len(mooc_data['Userid'].unique())\n",
    "registrations = len(mooc_data['Registered'])\n",
    "country = len(mooc_data['Country'].unique())\n",
    "courses = len(mooc_data['Course_title'].unique())\n",
    "education = len(mooc_data['Education'].unique())\n",
    "age = len(mooc_data['Age'].unique())\n",
    "gender = len(mooc_data['Gender'].unique())\n",
    "\n",
    "df = pd.DataFrame({'Registrations': [registrations],\n",
    "                   'Number of Userid': [users],\n",
    "                   'Age':[age],\n",
    "                   'Number of Countries': [country],\n",
    "                   'Number of Courses': [courses],\n",
    "                   'Level of Education':[education],\n",
    "                   'Gender':[gender]})\n",
    "df"
   ]
  },
  {
   "cell_type": "markdown",
   "metadata": {},
   "source": [
    "## Registrations\n",
    "#### 1. Course title\n",
    "Out of all the registrations in the courseware, 49.2% of the students registered for Introudction to Computer Science, 16.9% for Justice, 13% for Health in numbers, 12.2% for Human Health and Global environmental change and finally 8.7% registered for the Ancient Greek Hero. When we break this down by gender, males outnumber females by 106,149 and by course registration, males outnumber females in all course registrations.The goal of MOOCs is to make world class education accessible to all by taking away the price factor.We still see that the United States leads the pack (which is a developed country) rather than the expected countries from the global south."
   ]
  },
  {
   "cell_type": "code",
   "execution_count": null,
   "metadata": {},
   "outputs": [],
   "source": [
    "#Registration by course title on edx\n",
    "registered = mooc_data['Course_title'].value_counts()\n",
    "registered = registered.reset_index()\n",
    "registered.columns = ['Course title','Number of registrations']\n",
    "\n",
    "#PLot this data\n",
    "plt.figure(figsize=(7,7))\n",
    "colors =['orange','blue','hotpink','yellow','lime']\n",
    "explode = (0.05,0.1,0.0,0.0,0.0)\n",
    "labels = registered['Course title']\n",
    "\n",
    "plt.pie(registered['Number of registrations'], autopct= '%1.1f%%', \n",
    "        colors=colors, startangle=90, explode=explode, shadow=True)\n",
    "\n",
    "plt.legend(labels, loc=\"best\")\n",
    "plt.title('Registration By Course Title',fontsize=18)\n",
    "plt.axis('equal')\n",
    "plt.tight_layout()\n",
    "\n",
    "plt.savefig('css/Registration_course.jpeg')"
   ]
  },
  {
   "cell_type": "markdown",
   "metadata": {},
   "source": [
    "#### 2. Gender"
   ]
  },
  {
   "cell_type": "code",
   "execution_count": null,
   "metadata": {},
   "outputs": [],
   "source": [
    "#Registration by gender\n",
    "gender_registered = mooc_data.groupby(['Gender']).count()['Registered']\n",
    "gender_registered = gender_registered.reset_index()\n",
    "\n",
    "#Number of males and females per course title\n",
    "gender_course_registered = mooc_data.groupby(['Course_title','Gender']).count()['Registered']\n",
    "g = gender_course_registered.reset_index()\n",
    "\n",
    "males = g[g['Gender']=='m']\n",
    "females = g[g['Gender']=='f']\n",
    "gender_course = pd.merge(males,females, on=('Course_title'), how='inner', suffixes=('_male','_female'))\n",
    "\n",
    "#Plot this data\n",
    "fig, ax = plt.subplots(figsize=(8,8))\n",
    "\n",
    "width = 0.30\n",
    "labels = gender_course['Course_title']\n",
    "x = np.arange(len(labels))\n",
    "\n",
    "rects1 = ax.bar(x - width/2, males['Registered'], width, label='Male')\n",
    "rects2 = ax.bar(x + width/2, females['Registered'], width, label='Female')\n",
    "ax.set_title('Course registration by gender',fontsize=18)\n",
    "ax.set_ylabel('Number of registrations',fontsize=14)\n",
    "ax.set_xticks(x)\n",
    "ax.set_xticklabels(labels, rotation=90)\n",
    "ax.legend()\n",
    "plt.tight_layout()\n",
    "\n",
    "plt.savefig('css/Course_registration_gender.jpeg')"
   ]
  },
  {
   "cell_type": "markdown",
   "metadata": {},
   "source": [
    "#### 3. Country"
   ]
  },
  {
   "cell_type": "code",
   "execution_count": null,
   "metadata": {},
   "outputs": [],
   "source": [
    "#Course registrations by country\n",
    "df = mooc_data[['Course_title','Registered','Certified','Education','Country']]\n",
    "\n",
    "country = df['Country'].value_counts().reset_index()\n",
    "country.columns=['Country','Number of registrations']\n",
    "\n",
    "#Plot this data\n",
    "fig, ax = plt.subplots(figsize=(12,8))\n",
    "p1 = sns.barplot(x='Country',y='Number of registrations', data=country)\n",
    "p1.set_title('Registration by country',fontsize=18)\n",
    "p1.set_ylabel('Number of Registrations', fontsize=14)\n",
    "p1.set_xticklabels(p1.get_xticklabels(), rotation=90, horizontalalignment='right')\n",
    "plt.tight_layout()\n",
    "\n",
    "plt.savefig('css/Registration_country.jpeg')"
   ]
  },
  {
   "cell_type": "markdown",
   "metadata": {},
   "source": [
    "#### 4. Level of education"
   ]
  },
  {
   "cell_type": "code",
   "execution_count": null,
   "metadata": {},
   "outputs": [],
   "source": [
    "#Registration by level of education LoE\n",
    "LoE_registration = mooc_data.groupby(['Education']).count()['Registered']\n",
    "LoE_registration = LoE_registration.reset_index()\n",
    "LoE_registration\n",
    "\n",
    "#Plot this data\n",
    "plt.figure(figsize=(7,7))\n",
    "\n",
    "labels= LoE_registration['Education']\n",
    "explode= (0.1,0.0,0.0,0.1,0.0)\n",
    "colors=['green','brown','purple','red','yellow']\n",
    "\n",
    "plt.pie(LoE_registration['Registered'], autopct='%1.1f%%', colors=colors, explode=explode, shadow=True, startangle=90)\n",
    "plt.title('Registration by level of education', fontsize=18)\n",
    "plt.legend(labels,loc='best')\n",
    "plt.axis('equal')\n",
    "plt.tight_layout()\n",
    "\n",
    "plt.savefig('css/registration_by_LoE.jpeg')\n",
    "#68% of all studnets who registered for the courseware have either bachelors, masters or doctorate degrees"
   ]
  },
  {
   "cell_type": "markdown",
   "metadata": {},
   "source": [
    "#### 5. Age"
   ]
  },
  {
   "cell_type": "code",
   "execution_count": null,
   "metadata": {},
   "outputs": [],
   "source": [
    "#Registration by age\n",
    "age_registrations = mooc_data.groupby(['Age']).count()['Registered']\n",
    "age_registrations = age_registrations.reset_index()\n",
    "age_registrations\n",
    "\n",
    "#Number of students from 16 to 34 millenials and gen z\n",
    "prime_age = mooc_data.loc[(mooc_data['Age'] >= 16) & (mooc_data['Age'] < 35)]\n",
    "len(prime_age)\n",
    "\n",
    "#Student percentage who fall into the prime age category\n",
    "prime_age_percent = (len(prime_age)/registrations)*100\n",
    "print(f'Millenials and gen z represents {prime_age_percent} of all student enrollnments')\n",
    "\n",
    "#Plot this data\n",
    "plt.figure(figsize=(8,7))\n",
    "plt.scatter(x='Age', y='Registered', data=age_registrations, marker='o', s= 90, alpha=0.5)\n",
    "plt.xlabel('Age of Students',fontsize=14)\n",
    "plt.ylabel('Number of Registrations',fontsize=14)\n",
    "plt.title('Registration by age',fontsize=18)\n",
    "\n",
    "plt.savefig('css/Student_registration_by_age.jpeg')"
   ]
  },
  {
   "cell_type": "markdown",
   "metadata": {},
   "source": [
    "#### 6. Year"
   ]
  },
  {
   "cell_type": "code",
   "execution_count": null,
   "metadata": {},
   "outputs": [],
   "source": [
    "#Registration by year 2012 \n",
    "first_year = mooc_data.loc[mooc_data['Year'] == '2012']\n",
    "print(len(first_year))\n",
    "\n",
    "#Registration by 2013\n",
    "second_year = mooc_data.loc[mooc_data['Year'] == '2013']\n",
    "print(len(second_year))\n",
    "\n",
    "#change in percentage by year\n",
    "year_change = len(first_year) - len(second_year)\n",
    "year_change_percent = (year_change/len(first_year)) *100\n",
    "year_change_percent"
   ]
  },
  {
   "cell_type": "markdown",
   "metadata": {},
   "source": [
    "\n",
    "### Course Completion\n",
    "Out of the 290948 students who registered for the courseware, only 65,261 completed the courseware representing 22.4% of students.\n",
    "\n",
    "\n",
    "### Certifications (course title)\n",
    "Of the 290948 students who registered for these courses only 5728 students were certified, only 2% of students received certifications. Out of 143,266 students who registered for Introduction to Computer Science, only 1063 received certifications representing 1%. Out of 49,293 students who registered for Justice, 1970 received certifications representing 4%. Out of 37709 students who registered for Health in numbers, 1739 received certifications representing 5%.Out of the 35509 students who registered for Human health and global environmental change, 635 received certifications representing 2%.Out of the 25171 students who registered for the Ancient Greek hero,321 received certifications representing 1%."
   ]
  },
  {
   "cell_type": "code",
   "execution_count": null,
   "metadata": {},
   "outputs": [],
   "source": [
    "#How many students completed the courses in the courseware\n",
    "course_completed = mooc_data[mooc_data['Incomplete_flag']== 1]\n",
    "print(len(course_completed))\n",
    "\n",
    "course_completed_percentage = round(len(course_completed)/registrations*100,2)\n",
    "course_completed_percentage"
   ]
  },
  {
   "cell_type": "code",
   "execution_count": null,
   "metadata": {},
   "outputs": [],
   "source": [
    "#Single out certification column \n",
    "df2 = mooc_data['Certified'].value_counts()\n",
    "df2 = df2.reset_index()\n",
    "df2\n",
    "\n",
    "#Plot this data\n",
    "plt.figure(figsize=(7,7))\n",
    "\n",
    "labels=['Not Certified','Certified']\n",
    "\n",
    "explode = (0, 0.2)\n",
    "colors=['orange','lime']\n",
    "plt.pie(df2['Certified'],\n",
    "        autopct='%1.1f%%',\n",
    "        labels=labels,\n",
    "        explode=explode,\n",
    "        shadow=True,\n",
    "        colors=colors,\n",
    "        startangle=45)\n",
    "\n",
    "plt.title('Overall Certification',fontsize=18)\n",
    "plt.axis('equal')\n",
    "plt.tight_layout()\n",
    "\n",
    "plt.savefig('css/overall_certification.jpeg')"
   ]
  },
  {
   "cell_type": "markdown",
   "metadata": {},
   "source": [
    "## Certification analysis by demographics\n",
    "### 1. Course title"
   ]
  },
  {
   "cell_type": "code",
   "execution_count": null,
   "metadata": {},
   "outputs": [],
   "source": [
    "#How many people were certified by gender,country of origin, level of education \n",
    "df = mooc_data[['Course_title','Registered','Certified','Age','Education','Country']]\n",
    "\n",
    "#Give me all courses in which students received certification\n",
    "plot_df1 = df.loc[df['Certified'] =='Yes',['Course_title']]\n",
    "plot_df1= plot_df1.value_counts().reset_index()\n",
    "plot_df1.columns =['Course title','Number of certifications']\n",
    "\n",
    "merge_df1 = pd.merge(registered, plot_df1, how='inner', on='Course title')\n",
    "percent_certified = (merge_df1['Number of certifications'] / merge_df1['Number of registrations']) * 100\n",
    "merge_df1['% certified'] = percent_certified\n",
    "merge_df1"
   ]
  },
  {
   "cell_type": "code",
   "execution_count": null,
   "metadata": {},
   "outputs": [],
   "source": [
    "import matplotlib.ticker as ticker\n",
    "plt.figure(figsize=(8,6))\n",
    "#Absolute certifications by course registration\n",
    "x = merge_df1['Number of registrations']\n",
    "y = merge_df1['Number of certifications']\n",
    "s = merge_df1['Number of certifications'] /5\n",
    "colors = ['orange','blue','hotpink','yellow','lime']\n",
    "p2 = sns.scatterplot(x, y, s=s, hue=merge_df1['Course title'],edgecolor='black')\n",
    "p2.set_title('Absolute Course Certifications By Registration',fontsize=18)\n",
    "p2.set_ylabel('Number of Certifications',fontsize=14)\n",
    "p2.set_xlabel('Number of Registrations',fontsize=14)\n",
    "p2.set_ylim(0, max(y)+200)\n",
    "plt.savefig('css/absolute_course_certification.jpeg')\n",
    "\n",
    "\n",
    "#Relative certifications by course registration\n",
    "plt.figure(figsize=(8,6))\n",
    "y_rel = merge_df1['% certified']\n",
    "p3 = sns.scatterplot(x, y_rel, s=s, hue=merge_df1['Course title'],edgecolor='black')\n",
    "p3.set_title('Relative Course Certifications By Registration',fontsize=18)\n",
    "p3.set_ylabel('Certifications (%)',fontsize=14)\n",
    "p3.set_xlabel('Number of Registrations',fontsize=14)\n",
    "p3.set_ylim(0, max(y_rel)+ 2)\n",
    "p3.yaxis.set_major_formatter(ticker.StrMethodFormatter(\"{x:.0f}%\"))\n",
    "\n",
    "plt.savefig('css/relative_course_certification.jpg')"
   ]
  },
  {
   "cell_type": "markdown",
   "metadata": {},
   "source": [
    "### 2. Country"
   ]
  },
  {
   "cell_type": "code",
   "execution_count": null,
   "metadata": {},
   "outputs": [],
   "source": [
    "#Countries by certifications\n",
    "plot_df2 = df.loc[df['Certified'] =='Yes',['Country']]\n",
    "plot_df2 = plot_df2.value_counts().reset_index()\n",
    "plot_df2.columns = ['Country','Number of certifications']\n",
    "\n",
    "plot_df2 = pd.merge(country,plot_df2, how='inner', on='Country')\n",
    "percent_certified = (plot_df2['Number of certifications']/plot_df2['Number of registrations'])*100\n",
    "plot_df2['% certified'] = percent_certified\n",
    "\n",
    "plot_df2= plot_df2.sort_values('% certified', ascending=False)\n",
    "top_nine = plot_df2.iloc[0:9,:]\n",
    "top_nine_total = top_nine['Number of certifications'].sum()\n",
    "top_nine_total\n",
    "\n",
    "percent = round(top_nine_total/ len(certified) * 100,2)\n",
    "percent"
   ]
  },
  {
   "cell_type": "code",
   "execution_count": null,
   "metadata": {},
   "outputs": [],
   "source": [
    "#Plot countries by certification\n",
    "fig, ax = plt.subplots(figsize=(12,8))\n",
    "p4 = sns.barplot(x='Country',y='% certified', data=plot_df2)\n",
    "p4.set_title('Certifications by country(%)',fontsize=18)\n",
    "p4.set_ylabel('% Certified', fontsize=14)\n",
    "p4.set_xticklabels(p4.get_xticklabels(), rotation=90, horizontalalignment='right')\n",
    "p4.yaxis.set_major_formatter(ticker.StrMethodFormatter(\"{x:.0f}%\"))\n",
    "plt.tight_layout()\n",
    "\n",
    "plt.savefig('css/certification_country.jpeg')"
   ]
  },
  {
   "cell_type": "markdown",
   "metadata": {},
   "source": [
    "### 3. Level of education\n",
    "We see that about 73% of the students who completed the courseware and received certification already have a bachelor's, master's or doctorate degree.This shows that students accessing the courseware regard it merely as a resource to fill in gaps or perhaps suplement skills they already learnt in a four year traditional institution."
   ]
  },
  {
   "cell_type": "code",
   "execution_count": null,
   "metadata": {},
   "outputs": [],
   "source": [
    "#Filter certification by level of education\n",
    "LoE_certified  = mooc_data[(mooc_data['Certified'] == 'Yes')]\n",
    "\n",
    "#Give me the counts of certification by level of education\n",
    "LoE = LoE_certified['Education'].value_counts()\n",
    "LoE = LoE.reset_index()\n",
    "LoE\n",
    "\n",
    "#plot this data\n",
    "plt.figure(figsize=(7,7))\n",
    "colors=['lime','hotpink','yellow','blue','red']\n",
    "explode= (0.05,0.05,0.0,0.0,0.0)\n",
    "labels = LoE['index']\n",
    "\n",
    "plt.pie(LoE['Education'], autopct= '%1.1f%%', \n",
    "        colors=colors, startangle=90, explode=explode,shadow=True)\n",
    "\n",
    "plt.title('Certifications by level of education',fontsize=18)\n",
    "plt.legend(labels, loc=\"best\")\n",
    "plt.tight_layout()\n",
    "\n",
    "plt.savefig('css/certification_LoE.jpeg')"
   ]
  },
  {
   "cell_type": "markdown",
   "metadata": {},
   "source": [
    "#### 4. Age"
   ]
  },
  {
   "cell_type": "code",
   "execution_count": null,
   "metadata": {},
   "outputs": [],
   "source": [
    "certified= mooc_data.loc[mooc_data['Certified'] =='Yes']\n",
    "certified\n",
    "\n",
    "num_of_cert_age = certified.groupby(['Age']).count()['Certified']\n",
    "num_of_cert_age = num_of_cert_age.reset_index()\n",
    "\n",
    "\n",
    "#Number of cert between millenials and gen z\n",
    "highest_cert_age = num_of_cert_age.loc[(num_of_cert_age['Age']>= 16)& (num_of_cert_age['Age']< 31)]\n",
    "sum_cert_age = highest_cert_age['Certified'].sum()\n",
    "\n",
    "cert_age_percent = round(sum_cert_age/len(certified)*100,2)\n",
    "cert_age_percent"
   ]
  },
  {
   "cell_type": "code",
   "execution_count": null,
   "metadata": {},
   "outputs": [],
   "source": [
    "#Plot this data\n",
    "plt.figure(figsize=(8,6))\n",
    "\n",
    "plt.plot('Age','Certified', data=num_of_cert_age, marker='o', c='blue')\n",
    "plt.title('Age vs number of certifications', fontsize=18)\n",
    "plt.xlabel('Age of Students',fontsize=14)\n",
    "plt.ylabel('Number of Certifications',fontsize=14)\n",
    "plt.grid(True)\n",
    "\n",
    "plt.savefig('css/num_certifications_age.jpeg')"
   ]
  },
  {
   "cell_type": "markdown",
   "metadata": {},
   "source": [
    "### Diagnosis and recommendations"
   ]
  },
  {
   "cell_type": "code",
   "execution_count": null,
   "metadata": {},
   "outputs": [],
   "source": [
    "#Number of curse chapter(s) and number of certifications\n",
    "#Filter out only those who were certified\n",
    "certified = mooc_data[(mooc_data[\"Certified\"] == 'Yes')]\n",
    "\n",
    "#Group number of days students interacted with the courseware and the number of certifications\n",
    "num_of_chapters_cert = certified.groupby(['Nchapters']).count()['Certified']\n",
    "num_of_chapters_cert = num_of_chapters_cert.reset_index()\n",
    "\n",
    "#Number of chapters with the highest certification\n",
    "max = num_of_chapters_cert.max()\n",
    "\n",
    "#Give me the num_of chapters correspondingto the highest certification\n",
    "optimal_num_chapters = num_of_chapters_cert.loc[(num_of_chapters_cert['Certified']== 969),:]\n",
    "optimal_num_chapters"
   ]
  },
  {
   "cell_type": "code",
   "execution_count": null,
   "metadata": {},
   "outputs": [],
   "source": [
    "#Plot this data\n",
    "plt.figure(figsize=(8,6))\n",
    "plt.plot('Nchapters','Certified', data=num_of_chapters_cert, marker='o', c='red')\n",
    "plt.title('Course chapters vs number of certifications', fontsize=18)\n",
    "plt.xlabel('Number of chapters',fontsize=14)\n",
    "plt.ylabel('Number of Certifications',fontsize=14)\n",
    "plt.grid(True)\n",
    "\n",
    "plt.savefig('css/num_chapters_certification.jpeg')"
   ]
  },
  {
   "cell_type": "code",
   "execution_count": null,
   "metadata": {},
   "outputs": [],
   "source": [
    "#Number of interactive days with the courseware and out of these days how may were certified\n",
    "interactive_days = mooc_data['Ndays_act'].value_counts()\n",
    "\n",
    "#Filter out only those who were certified\n",
    "certified = mooc_data[(mooc_data[\"Certified\"] == 'Yes')]\n",
    "\n",
    "#Group number of days students interacted with the courseware and the number of certifications\n",
    "unique_days_certified = certified.groupby(['Ndays_act']).count()['Certified']\n",
    "unique_days_certified = unique_days_certified.reset_index()\n",
    "\n",
    "#20 to 40 days\n",
    "optimal_num_days = unique_days_certified.loc[(unique_days_certified['Ndays_act']>=15) & (unique_days_certified['Ndays_act']< 41)]\n",
    "optimal_num_days"
   ]
  },
  {
   "cell_type": "code",
   "execution_count": null,
   "metadata": {
    "scrolled": false
   },
   "outputs": [],
   "source": [
    "#Plot this data\n",
    "plt.figure(figsize=(8,6))\n",
    "plt.scatter('Ndays_act', 'Certified', data=interactive_days_certified, s=80, c='red', alpha=0.5)\n",
    "plt.title('Interactive days vs number of certifications',fontsize=18)\n",
    "plt.xlabel('Number of interactive days with courseware',fontsize=14)\n",
    "plt.ylabel('Number of Certifications',fontsize=14)\n",
    "plt.grid(True)\n",
    "\n",
    "\n",
    "plt.savefig('css/unique_interactive_days_certifications.jpeg')"
   ]
  },
  {
   "cell_type": "code",
   "execution_count": null,
   "metadata": {},
   "outputs": [],
   "source": [
    "#Students who explored (acessed more than 50% of the courseware) and the relationship with certification\n",
    "\n",
    "#Filter out only those who were certified\n",
    "certified = mooc_data[(mooc_data[\"Certified\"] == 'Yes')]\n",
    "\n",
    "#Group by those who explored courseware and number of certifications\n",
    "more_than_50percent = certified.groupby(['Explored']).count()['Certified']\n",
    "more_than_50percent= more_than_50percent.reset_index()\n",
    "\n",
    "x = more_than_50percent['Explored']\n",
    "y = more_than_50percent['Certified']\n",
    "\n",
    "#Plot this data\n",
    "plt.figure(figsize=(8,5))\n",
    "p5 = plt.bar(x, y)\n",
    "plt.title('50% of courseware content accessed',fontsize=18)\n",
    "plt.ylabel('Certifications',fontsize=14)\n",
    "\n",
    "plt.savefig('css/50%_or_more_of_course_certification.jpeg')"
   ]
  },
  {
   "cell_type": "markdown",
   "metadata": {},
   "source": [
    "## Predictions"
   ]
  },
  {
   "cell_type": "code",
   "execution_count": null,
   "metadata": {},
   "outputs": [],
   "source": [
    "mooc_data.head()"
   ]
  },
  {
   "cell_type": "code",
   "execution_count": null,
   "metadata": {},
   "outputs": [],
   "source": [
    "#Can we predict if a student will be certified or not\n",
    "from sklearn.linear_model import LogisticRegression\n",
    "from sklearn.model_selection import train_test_split\n",
    "from sklearn import metrics\n",
    "\n",
    "\n",
    "#Setting X and y\n",
    "X = mooc_data[['Age','Gender','Country','Education','Course_id','Year','Registered','Explored','Nplay_video','Nforum_posts','Ndays_act','Nchapters']]\n",
    "y = mooc_data[['Certified']]\n",
    "\n",
    "X = pd.get_dummies(data=X, drop_first=True)\n",
    "y = pd.get_dummies(data=y, drop_first=True)"
   ]
  },
  {
   "cell_type": "code",
   "execution_count": null,
   "metadata": {},
   "outputs": [],
   "source": [
    "#Split data into training and trsting set\n",
    "X_train, X_test, y_train, y_test = train_test_split(X,y, test_size=0.3, stratify=y)\n",
    "\n",
    "#Logistic regression\n",
    "model= LogisticRegression()\n",
    "\n",
    "#Training data\n",
    "model.fit(X_train, y_train)\n",
    "\n",
    "#Test it on untrained data\n",
    "y_predicted = model.predict(X_test)\n"
   ]
  },
  {
   "cell_type": "code",
   "execution_count": null,
   "metadata": {},
   "outputs": [],
   "source": [
    "cnf_matrix = metrics.confusion_matrix(y_test, y_predicted)\n",
    "cnf_matrix"
   ]
  },
  {
   "cell_type": "code",
   "execution_count": null,
   "metadata": {},
   "outputs": [],
   "source": [
    "#visualize confusion matrix\n",
    "class_names=[0, 1]\n",
    "fig, ax = plt.subplots(figsize=(8,5))\n",
    "tick_marks = np.arange(len(class_names))\n",
    "plt.xticks(tick_marks, class_names)\n",
    "plt.yticks(tick_marks, class_names)\n",
    "\n",
    "# heatmap\n",
    "sns.heatmap(pd.DataFrame(cnf_matrix), annot=True, cmap='viridis_r' ,fmt='g')\n",
    "ax.xaxis.set_label_position(\"top\")\n",
    "plt.title('Confusion matrix', y=1.1)\n",
    "plt.ylabel('Actual label')\n",
    "plt.xlabel('Predicted label')\n",
    "plt.tight_layout()\n",
    "\n",
    "plt.savefig('css/log_model.jpeg')"
   ]
  },
  {
   "cell_type": "code",
   "execution_count": null,
   "metadata": {},
   "outputs": [],
   "source": [
    "print(\"Accuracy:\",metrics.accuracy_score(y_test, y_predicted)) \n",
    "print(\"Precision:\",metrics.precision_score(y_test, y_predicted))\n",
    "print(\"Recall:\",metrics.recall_score(y_test, y_predicted))"
   ]
  },
  {
   "cell_type": "code",
   "execution_count": null,
   "metadata": {},
   "outputs": [],
   "source": [
    "## Conclusion"
   ]
  }
 ],
 "metadata": {
  "kernelspec": {
   "display_name": "Python 3",
   "language": "python",
   "name": "python3"
  },
  "language_info": {
   "codemirror_mode": {
    "name": "ipython",
    "version": 3
   },
   "file_extension": ".py",
   "mimetype": "text/x-python",
   "name": "python",
   "nbconvert_exporter": "python",
   "pygments_lexer": "ipython3",
   "version": "3.7.1"
  }
 },
 "nbformat": 4,
 "nbformat_minor": 2
}
